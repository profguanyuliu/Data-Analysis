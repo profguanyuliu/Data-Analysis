{
 "cells": [
  {
   "cell_type": "markdown",
   "id": "a9d407cf",
   "metadata": {},
   "source": [
    "# this is a practice for scrapy\n",
    "this is the first phase"
   ]
  },
  {
   "cell_type": "code",
   "execution_count": null,
   "id": "c339a611",
   "metadata": {},
   "outputs": [],
   "source": [
    "import scrapy\n",
    "\n",
    "class QuotesSpider(scrapy.Spider):\n",
    "    name = \"quotes\"\n",
    "    \n",
    "    def start_requests(self):\n",
    "        urls = ['http://www.cueb.edu.cn']\n",
    "        for url in urls:\n",
    "            yield scrapy.Request(url=url, callback=self.parse)\n",
    "            \n",
    "    def parse(self, response):\n",
    "        page = response.url.split(\"/\")[-2]\n",
    "        filename = 'quotes-s%.html' % page\n",
    "        with open(filename, 'wb') as f:\n",
    "            f.write(response.body)\n",
    "            self.log('Saved file %s' % filename)"
   ]
  },
  {
   "cell_type": "markdown",
   "id": "4ed2c43a",
   "metadata": {},
   "source": [
    "# this is a practice for GUI\n",
    "this is the case on page 254"
   ]
  },
  {
   "cell_type": "code",
   "execution_count": null,
   "id": "1db98336",
   "metadata": {},
   "outputs": [],
   "source": [
    "import tkinter as tk\n",
    "\n",
    "root = tk.Tk()\n",
    "root.title(\"python demo\")\n",
    "\n",
    "theLabel = tk.Label(root, text=\"this is the first InforBox\")\n",
    "theLabel.pack()\n",
    "\n",
    "root.mainloop()"
   ]
  },
  {
   "cell_type": "code",
   "execution_count": null,
   "id": "863da229",
   "metadata": {},
   "outputs": [],
   "source": []
  }
 ],
 "metadata": {
  "kernelspec": {
   "display_name": "Python 3 (ipykernel)",
   "language": "python",
   "name": "python3"
  },
  "language_info": {
   "codemirror_mode": {
    "name": "ipython",
    "version": 3
   },
   "file_extension": ".py",
   "mimetype": "text/x-python",
   "name": "python",
   "nbconvert_exporter": "python",
   "pygments_lexer": "ipython3",
   "version": "3.9.12"
  }
 },
 "nbformat": 4,
 "nbformat_minor": 5
}
