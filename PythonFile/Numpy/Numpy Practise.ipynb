{
 "cells": [
  {
   "cell_type": "markdown",
   "id": "4544f7ba",
   "metadata": {},
   "source": [
    "# create numpy array"
   ]
  },
  {
   "cell_type": "code",
   "execution_count": 17,
   "id": "7c5b20af",
   "metadata": {},
   "outputs": [
    {
     "name": "stdout",
     "output_type": "stream",
     "text": [
      "[1 2 3]\n",
      "[0 1 2 3 4 5 6 7 8 9]\n",
      "[1 2 3 4 5 6 7 8 9]\n",
      "[1. 2. 3.]\n",
      "[ True  True False  True False False]\n",
      "[1. 1. 0. 1. 0. 0.]\n",
      "[0.75755955 0.1558551  0.13259648 0.6545614  0.85738119 0.91200284\n",
      " 0.93943466 0.41135847 0.82799069 0.4601497 ]\n",
      "[0.76 0.16 0.13 0.65 0.86 0.91 0.94 0.41 0.83 0.46]\n"
     ]
    }
   ],
   "source": [
    "import numpy as np\n",
    "import random as random\n",
    "\n",
    "a = np.array([1,2,3])\n",
    "b= np.array(range(10))\n",
    "c = np.arange(1,10)\n",
    "d = np.array(range(1,4),dtype=float)\n",
    "e = np.array([1,1,0,1,0,0],dtype=bool)\n",
    "Re = e.astype(float)\n",
    "\n",
    "f = np.array([random.random() for i in range(10)])\n",
    "g = np.round(f,2)\n",
    "\n",
    "print(a)\n",
    "print(b)\n",
    "print(c)\n",
    "print(d)\n",
    "print(e)\n",
    "print(Re)\n",
    "print(f)\n",
    "print(g)"
   ]
  },
  {
   "cell_type": "markdown",
   "id": "ad6f9787",
   "metadata": {},
   "source": [
    "# shape the array"
   ]
  },
  {
   "cell_type": "code",
   "execution_count": 43,
   "id": "af9d3d6b",
   "metadata": {},
   "outputs": [
    {
     "name": "stdout",
     "output_type": "stream",
     "text": [
      "[ 0  1  2  3  4  5  6  7  8  9 10 11]\n",
      "(12,)\n",
      "[[1 2 3]\n",
      " [4 5 6]]\n",
      "(2, 3)\n",
      "[[[ 1  2  3]\n",
      "  [ 4  5  6]]\n",
      "\n",
      " [[ 7  8  9]\n",
      "  [10 11 12]]]\n",
      "[[ 0  1  2  3]\n",
      " [ 4  5  6  7]\n",
      " [ 8  9 10 11]]\n",
      "24\n",
      "[ 0  1  2  3  4  5  6  7  8  9 10 11 12 13 14 15 16 17 18 19 20 21 22 23]\n"
     ]
    }
   ],
   "source": [
    "import numpy as np\n",
    "\n",
    "t1 = np.arange(12)\n",
    "t2 = np.array([[1,2,3],[4,5,6]])\n",
    "t3 = np.array([[[1,2,3],[4,5,6]],[[7,8,9],[10,11,12]]])\n",
    "t4 = np.arange(12).reshape((3,4))\n",
    "t5 = np.arange(24).reshape((2,3,4))\n",
    "t5 = t5.reshape(1,24)\n",
    "\n",
    "print(t1)\n",
    "print(t1.shape)\n",
    "print(t2)\n",
    "print(t2.shape)\n",
    "print(t3)\n",
    "print(t4)\n",
    "print(t5.shape[0]*t5.shape[1])\n",
    "print(t5.flatten())"
   ]
  },
  {
   "cell_type": "markdown",
   "id": "15c76c25",
   "metadata": {},
   "source": [
    "# numpy array calculate"
   ]
  },
  {
   "cell_type": "code",
   "execution_count": 59,
   "id": "2829b3a6",
   "metadata": {},
   "outputs": [
    {
     "name": "stdout",
     "output_type": "stream",
     "text": [
      "[[ 0  1  2]\n",
      " [ 3  4  5]\n",
      " [ 6  7  8]\n",
      " [ 9 10 11]]\n",
      "[[20 21 22]\n",
      " [23 24 25]\n",
      " [26 27 28]\n",
      " [29 30 31]]\n",
      "[1 2 3]\n",
      "[[20 22 24]\n",
      " [26 28 30]\n",
      " [32 34 36]\n",
      " [38 40 42]]\n",
      "[[ 1  3  5]\n",
      " [ 4  6  8]\n",
      " [ 7  9 11]\n",
      " [10 12 14]]\n"
     ]
    }
   ],
   "source": [
    "import numpy as np\n",
    "\n",
    "t1 = np.arange(12).reshape(4,3)\n",
    "t2 = np.arange(20,32).reshape(4,3)\n",
    "t3 = np.array([1,2,3])\n",
    "\n",
    "print(t1)\n",
    "print(t2)\n",
    "print(t3)\n",
    "print(t1+t2)\n",
    "print(t1+t3)\n"
   ]
  },
  {
   "cell_type": "markdown",
   "id": "fa6c6ee2",
   "metadata": {},
   "source": [
    "# Numpy load file"
   ]
  },
  {
   "cell_type": "code",
   "execution_count": 70,
   "id": "8a29a4d4",
   "metadata": {},
   "outputs": [
    {
     "name": "stdout",
     "output_type": "stream",
     "text": [
      "[[   2    0    1 ...    1    0    0]\n",
      " [   3    0    1 ...    1    0    0]\n",
      " [   4    1    0 ...    1    0    0]\n",
      " ...\n",
      " [8991    1    0 ...    1    0    0]\n",
      " [8992    1    0 ...    1    0    0]\n",
      " [8993    1    0 ...    1    0    0]]\n"
     ]
    }
   ],
   "source": [
    "import numpy as np\n",
    "\n",
    "Income_file_path = \"./Income.csv\"\n",
    "\n",
    "t1 = np.loadtxt(Income_file_path,delimiter=\",\",skiprows=1,dtype=\"int\")\n",
    "\n",
    "print(t1)"
   ]
  },
  {
   "cell_type": "markdown",
   "id": "43bd34c3",
   "metadata": {},
   "source": [
    "# numpy array transpose"
   ]
  },
  {
   "cell_type": "code",
   "execution_count": 72,
   "id": "bbf21ace",
   "metadata": {},
   "outputs": [
    {
     "name": "stdout",
     "output_type": "stream",
     "text": [
      "[[ 0  1  2]\n",
      " [ 3  4  5]\n",
      " [ 6  7  8]\n",
      " [ 9 10 11]]\n",
      "[[ 0  3  6  9]\n",
      " [ 1  4  7 10]\n",
      " [ 2  5  8 11]]\n",
      "[[ 0  3  6  9]\n",
      " [ 1  4  7 10]\n",
      " [ 2  5  8 11]]\n"
     ]
    }
   ],
   "source": [
    "import numpy as np\n",
    "\n",
    "t1 = np.arange(12).reshape(4,3)\n",
    "\n",
    "print(t1)\n",
    "print(t1.transpose())\n",
    "print(t1.T)"
   ]
  },
  {
   "cell_type": "markdown",
   "id": "e19f4af3",
   "metadata": {},
   "source": [
    "# numpy array slicing and modify"
   ]
  },
  {
   "cell_type": "code",
   "execution_count": 105,
   "id": "a6a30d37",
   "metadata": {},
   "outputs": [
    {
     "name": "stdout",
     "output_type": "stream",
     "text": [
      "[[ 0  1  2]\n",
      " [ 3  4  5]\n",
      " [ 6  7  8]\n",
      " [ 9 10 11]]\n",
      "[3 4 5]\n",
      "[ 1  4  7 10]\n",
      "[[ 2]\n",
      " [ 5]\n",
      " [ 8]\n",
      " [11]]\n",
      "[[ 6  7  8]\n",
      " [ 9 10 11]]\n",
      "[[0 1 2]\n",
      " [6 7 8]]\n",
      "[[ 0  2]\n",
      " [ 3  5]\n",
      " [ 6  8]\n",
      " [ 9 11]]\n",
      "5\n",
      "[[0 1]\n",
      " [3 4]]\n",
      "[2 5]\n",
      "[[0 0 0]\n",
      " [0 0 5]\n",
      " [5 5 5]\n",
      " [5 5 5]]\n",
      "[[3 3 3]\n",
      " [3 4 5]\n",
      " [5 5 5]\n",
      " [5 5 5]]\n"
     ]
    }
   ],
   "source": [
    "import numpy as np\n",
    "\n",
    "t1 = np.arange(12).reshape(4,3)\n",
    "\n",
    "print(t1)\n",
    "print(t1[1,:])\n",
    "print(t1[:,1])\n",
    "\n",
    "print(t1[:,2:])\n",
    "print(t1[2:,:])\n",
    "\n",
    "print(t1[[0,2],:])\n",
    "print(t1[:,[0,2]])\n",
    "\n",
    "print(t1[1,2])\n",
    "print(t1[0:2,0:2])\n",
    "\n",
    "print(t1[[0,1],[2,2]])\n",
    "\n",
    "t2 = np.arange(12).reshape(4,3)\n",
    "\n",
    "t2 = np.where(t2<5,0,5)\n",
    "print(t2)\n",
    "\n",
    "t3 = np.arange(12).reshape(4,3)\n",
    "t3 = t3.clip(3,5)\n",
    "print(t3)\n",
    "\n"
   ]
  },
  {
   "cell_type": "markdown",
   "id": "b33a3e07",
   "metadata": {},
   "source": [
    "# array stack operation"
   ]
  },
  {
   "cell_type": "code",
   "execution_count": 24,
   "id": "01387759",
   "metadata": {},
   "outputs": [
    {
     "name": "stdout",
     "output_type": "stream",
     "text": [
      "[[ 0  1  2  3  4  5]\n",
      " [ 6  7  8  9 10 11]]\n",
      "[[12 13 14 15 16 17]\n",
      " [18 19 20 21 22 23]]\n",
      "[[ 0  1  2  3  4  5]\n",
      " [ 6  7  8  9 10 11]\n",
      " [12 13 14 15 16 17]\n",
      " [18 19 20 21 22 23]]\n",
      "[[ 0  1  2  3  4  5 12 13 14 15 16 17]\n",
      " [ 6  7  8  9 10 11 18 19 20 21 22 23]]\n",
      "[[3. 0. 0.]\n",
      " [0. 3. 0.]\n",
      " [0. 0. 3.]]\n",
      "[[15 16 12 12 10]\n",
      " [15 19 17 19 16]\n",
      " [13 16 15 17 19]\n",
      " [10 17 16 13 12]]\n",
      "[14.75634296 18.63621379 10.74023188 10.88033024 10.8626836  14.06378388\n",
      " 11.2423786  17.36548341 13.23325192 16.07954683]\n",
      "10\n",
      "[1.70782513 1.70782513]\n"
     ]
    }
   ],
   "source": [
    "import numpy as np\n",
    "import random as random\n",
    "\n",
    "t1 = np.arange(0,12).reshape(2,6)\n",
    "t2 = np.arange(12,24).reshape(2,6)\n",
    "\n",
    "print(t1)\n",
    "print(t2)\n",
    "\n",
    "t3 = np.vstack((t1,t2))\n",
    "print(t3)\n",
    "\n",
    "t4 = np.hstack((t1,t2))\n",
    "print(t4)\n",
    "\n",
    "t5 = np.eye(3)\n",
    "print(t5*3)\n",
    "\n",
    "t6 = np.random.randint(10,20,(4,5))\n",
    "print(t6)\n",
    "\n",
    "t7 = np.random.uniform(10,20,(10))\n",
    "print(t7)\n",
    "\n",
    "t8 = np.count_nonzero(t7)\n",
    "print(t8)\n",
    "\n",
    "t9 = t1.std(axis=1)\n",
    "print(t9)"
   ]
  }
 ],
 "metadata": {
  "kernelspec": {
   "display_name": "Python 3 (ipykernel)",
   "language": "python",
   "name": "python3"
  },
  "language_info": {
   "codemirror_mode": {
    "name": "ipython",
    "version": 3
   },
   "file_extension": ".py",
   "mimetype": "text/x-python",
   "name": "python",
   "nbconvert_exporter": "python",
   "pygments_lexer": "ipython3",
   "version": "3.9.12"
  }
 },
 "nbformat": 4,
 "nbformat_minor": 5
}
